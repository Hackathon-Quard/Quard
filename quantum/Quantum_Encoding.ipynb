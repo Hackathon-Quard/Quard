{
  "nbformat": 4,
  "nbformat_minor": 0,
  "metadata": {
    "colab": {
      "provenance": []
    },
    "kernelspec": {
      "name": "python3",
      "display_name": "Python 3"
    },
    "language_info": {
      "name": "python"
    }
  },
  "cells": [
    {
      "cell_type": "code",
      "source": [
        "!pip install qiskit-aer --quiet"
      ],
      "metadata": {
        "id": "yEqNzUNJbEcj"
      },
      "execution_count": 12,
      "outputs": []
    },
    {
      "cell_type": "code",
      "source": [
        "from qiskit import QuantumCircuit\n",
        "from qiskit_aer import Aer\n",
        "from qiskit.compiler import transpile, assemble\n",
        "from qiskit.visualization import plot_histogram, plot_bloch_multivector\n",
        "from math import pi\n",
        "\n",
        "classical_data = [0.6, 0.8]\n",
        "\n",
        "num_qubits = len(classical_data)\n",
        "qc = QuantumCircuit(num_qubits)\n",
        "\n",
        "data_radians = [x*2*pi for x in classical_data]\n",
        "\n",
        "qc.rx(data_radians[0], 0)\n",
        "qc.ry(data_radians[1], 1)\n",
        "\n",
        "qc.measure_all()\n",
        "backend = Aer.get_backend('statevector_simulator')\n",
        "\n",
        "new_circuit = transpile(qc, backend)\n",
        "job = backend.run(new_circuit)\n",
        "result = job.result()\n",
        "state = result.get_statevector()\n",
        "\n",
        "plot_bloch_multivector(state)\n",
        "\n",
        "print (\"Encoded Quantum Circuit:\")\n",
        "print (qc)"
      ],
      "metadata": {
        "colab": {
          "base_uri": "https://localhost:8080/"
        },
        "id": "Y5whSY1OQ5P0",
        "outputId": "238a8e9f-ba80-4351-d376-d50fa7ad689e"
      },
      "execution_count": 13,
      "outputs": [
        {
          "output_type": "stream",
          "name": "stdout",
          "text": [
            "Encoded Quantum Circuit:\n",
            "        ┌──────────┐ ░ ┌─┐   \n",
            "   q_0: ┤ Rx(6π/5) ├─░─┤M├───\n",
            "        ├──────────┤ ░ └╥┘┌─┐\n",
            "   q_1: ┤ Ry(8π/5) ├─░──╫─┤M├\n",
            "        └──────────┘ ░  ║ └╥┘\n",
            "meas: 2/════════════════╩══╩═\n",
            "                        0  1 \n"
          ]
        }
      ]
    }
  ]
}