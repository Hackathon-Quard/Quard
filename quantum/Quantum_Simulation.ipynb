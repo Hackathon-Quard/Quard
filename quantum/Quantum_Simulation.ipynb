{
  "nbformat": 4,
  "nbformat_minor": 0,
  "metadata": {
    "colab": {
      "provenance": []
    },
    "kernelspec": {
      "name": "python3",
      "display_name": "Python 3"
    },
    "language_info": {
      "name": "python"
    }
  },
  "cells": [
    {
      "cell_type": "code",
      "source": [
        "!pip install qiskit-aer --quiet"
      ],
      "metadata": {
        "colab": {
          "base_uri": "https://localhost:8080/"
        },
        "id": "mHjKi7hmbTU0",
        "outputId": "6c4de16c-0b15-4bcc-e357-a48e33c09a8e"
      },
      "execution_count": 5,
      "outputs": [
        {
          "output_type": "stream",
          "name": "stdout",
          "text": [
            "\u001b[2K   \u001b[90m━━━━━━━━━━━━━━━━━━━━━━━━━━━━━━━━━━━━━━━━\u001b[0m \u001b[32m12.4/12.4 MB\u001b[0m \u001b[31m41.7 MB/s\u001b[0m eta \u001b[36m0:00:00\u001b[0m\n",
            "\u001b[?25h"
          ]
        }
      ]
    },
    {
      "cell_type": "code",
      "execution_count": 7,
      "metadata": {
        "colab": {
          "base_uri": "https://localhost:8080/"
        },
        "id": "g9tLj3kBXWap",
        "outputId": "566e9595-082f-4377-b165-1deabe0b62fa"
      },
      "outputs": [
        {
          "output_type": "stream",
          "name": "stdout",
          "text": [
            "Accident probabilities for each object: [0.496, 0.516, 0.479, 0.513, 0.485, 0.503, 0.499, 0.503, 0.51]\n",
            "Average Accident Probability: 0.5004444444444444\n"
          ]
        }
      ],
      "source": [
        "!pip install qiskit-aer --quiet\n",
        "\n",
        "from qiskit import QuantumCircuit\n",
        "from qiskit_aer import Aer\n",
        "from qiskit.compiler import transpile, assemble\n",
        "import numpy as np\n",
        "\n",
        "def simulate_object(is_moving_towards_object):\n",
        "\n",
        "    qc = QuantumCircuit(1, 1)\n",
        "    if is_moving_towards_object:\n",
        "\n",
        "        qc.initialize([0, 1], 0)\n",
        "    else:\n",
        "        qc.initialize([1, 0], 0)\n",
        "\n",
        "    qc.h(0)\n",
        "    qc.measure(0, 0)\n",
        "\n",
        "\n",
        "    backend = Aer.get_backend('qasm_simulator')\n",
        "    new_circuit = transpile(qc, backend)\n",
        "    job = backend.run(new_circuit, shots=1000)\n",
        "    result = job.result()\n",
        "    counts = result.get_counts(qc)\n",
        "\n",
        "\n",
        "    prob_of_accident = counts.get('1', 0) / 1000.0\n",
        "    return prob_of_accident\n",
        "\n",
        "\n",
        "worker_positions = [(100, 100), (120, 130), (140, 160)]\n",
        "vehicle_positions = [(300, 150), (320, 160), (340, 170)]\n",
        "\n",
        "\n",
        "accident_probabilities = []\n",
        "for i in range(len(worker_positions)):\n",
        "    for j in range(len(vehicle_positions)):\n",
        "\n",
        "\n",
        "        distance = abs(worker_positions[i][0] - vehicle_positions[j][0])\n",
        "        if distance < 200:\n",
        "            prob = simulate_object(True)\n",
        "        else:\n",
        "            prob = simulate_object(False)\n",
        "        accident_probabilities.append(prob)\n",
        "\n",
        "print(\"Accident probabilities for each object:\", accident_probabilities)\n",
        "print(\"Average Accident Probability:\", np.mean(accident_probabilities))\n",
        "\n"
      ]
    }
  ]
}